{
 "cells": [
  {
   "cell_type": "code",
   "execution_count": 22,
   "metadata": {},
   "outputs": [
    {
     "name": "stdout",
     "output_type": "stream",
     "text": [
      "Calibration image count: 20\n"
     ]
    }
   ],
   "source": [
    "import numpy as np\n",
    "import cv2\n",
    "import glob\n",
    "import pickle\n",
    "\n",
    "#prepare object points (0,0,0),(1,0,0)...until (8,5,0)\n",
    "objp = np.zeros((9*6, 3), np.float32)\n",
    "\n",
    "objp[:,:2] = np.mgrid[0:9, 0:6].T.reshape(-1,2)\n",
    "\n",
    "#store object points and image points in arrays\n",
    "objpoints = []\n",
    "imgpoints = []\n",
    "\n",
    "#get all the calibration images\n",
    "images = glob.glob('./camera_cal/calibration*.jpg')\n",
    "\n",
    "imageCount = len(images)\n",
    "print(\"Calibration image count:\", imageCount)\n"
   ]
  },
  {
   "cell_type": "code",
   "execution_count": 23,
   "metadata": {},
   "outputs": [
    {
     "name": "stdout",
     "output_type": "stream",
     "text": [
      "working on ./camera_cal\\calibration10.jpg\n",
      "working on ./camera_cal\\calibration11.jpg\n",
      "working on ./camera_cal\\calibration12.jpg\n",
      "working on ./camera_cal\\calibration13.jpg\n",
      "working on ./camera_cal\\calibration14.jpg\n",
      "working on ./camera_cal\\calibration15.jpg\n",
      "working on ./camera_cal\\calibration16.jpg\n",
      "working on ./camera_cal\\calibration17.jpg\n",
      "working on ./camera_cal\\calibration18.jpg\n",
      "working on ./camera_cal\\calibration19.jpg\n",
      "working on ./camera_cal\\calibration2.jpg\n",
      "working on ./camera_cal\\calibration20.jpg\n",
      "working on ./camera_cal\\calibration3.jpg\n",
      "working on ./camera_cal\\calibration6.jpg\n",
      "working on ./camera_cal\\calibration7.jpg\n",
      "working on ./camera_cal\\calibration8.jpg\n",
      "working on ./camera_cal\\calibration9.jpg\n"
     ]
    }
   ],
   "source": [
    "for idx, fname in enumerate (images):\n",
    "    img = cv2.imread(fname)\n",
    "    gray = cv2.cvtColor(img, cv2.COLOR_BGR2GRAY)\n",
    "    \n",
    "    ret, corners = cv2.findChessboardCorners(gray, (9,6),None)\n",
    "    \n",
    "    if ret == True:\n",
    "        print('working on', fname)\n",
    "        objpoints.append(objp)\n",
    "        imgpoints.append(corners)\n",
    "        \n",
    "        cv2.drawChessboardCorners(img, (9,6), corners, ret)\n",
    "        write_name = './output_images/corners_found'+str(idx)+'.jpg'\n",
    "        cv2.imwrite(write_name, img)\n",
    "        \n",
    "\n",
    "\n"
   ]
  },
  {
   "cell_type": "code",
   "execution_count": 24,
   "metadata": {},
   "outputs": [],
   "source": [
    "img = cv2.imread('./camera_cal/calibration1.jpg')\n",
    "img_size = (img.shape[1], img.shape[0])\n",
    "\n",
    "ret, mtx, dist, rvecs, tvecs = cv2.calibrateCamera(objpoints, imgpoints, img_size, None, None)\n",
    "\n",
    "dist_pickle = {}\n",
    "dist_pickle[\"mtx\"] = mtx\n",
    "dist_pickle[\"dist\"] = dist\n",
    "pickle.dump(dist_pickle, open(\"./calibration_pickle.p\", \"wb\"))\n"
   ]
  },
  {
   "cell_type": "code",
   "execution_count": 33,
   "metadata": {},
   "outputs": [
    {
     "name": "stdout",
     "output_type": "stream",
     "text": [
      "camera calibration values loaded\n"
     ]
    }
   ],
   "source": [
    "#load in the camera calibration results\n",
    "dist_pickle = pickle.load(open(\"./calibration_pickle.p\", \"rb\"))\n",
    "mtx = dist_pickle[\"mtx\"]\n",
    "dist = dist_pickle[\"dist\"]\n",
    "\n",
    "print(\"camera calibration values loaded\")\n",
    "\n"
   ]
  },
  {
   "cell_type": "code",
   "execution_count": 44,
   "metadata": {},
   "outputs": [],
   "source": [
    "#function for producing the binary pixel of interest images for the LaneTracker Algorithm\n",
    "def abs_sobel_thresh(img, orient='x',sobel_kernel=3, thresh=(0,255)):\n",
    "    # Convert to grayscale\n",
    "    gray = cv2.cvtColor(img, cv2.COLOR_RGB2GRAY)\n",
    "    # Apply x or y gradient with the OpenCV Sobel() function\n",
    "    # and take the absolute value\n",
    "    if orient == 'x':\n",
    "        abs_sobel = np.absolute(cv2.Sobel(gray, cv2.CV_64F, 1, 0))\n",
    "    if orient == 'y':\n",
    "        abs_sobel = np.absolute(cv2.Sobel(gray, cv2.CV_64F, 0, 1))\n",
    "    # Rescale back to 8 bit integer\n",
    "    scaled_sobel = np.uint8(255*abs_sobel/np.max(abs_sobel))\n",
    "    # Create a copy and apply the threshold\n",
    "    binary_output = np.zeros_like(scaled_sobel)\n",
    "    # Here I'm using inclusive (>=, <=) thresholds, but exclusive is ok too\n",
    "    binary_output[(scaled_sobel >= thresh[0]) & (scaled_sobel <= thresh[1])] = 1\n",
    "    # Return the result\n",
    "    return binary_output\n",
    "\n",
    "def mag_thresh(img, sobel_kernel=3, mag_thresh=(0, 255)):\n",
    "    # Convert to grayscale\n",
    "    gray = cv2.cvtColor(img, cv2.COLOR_RGB2GRAY)\n",
    "    # Take both Sobel x and y gradients\n",
    "    sobelx = cv2.Sobel(gray, cv2.CV_64F, 1, 0, ksize=sobel_kernel)\n",
    "    sobely = cv2.Sobel(gray, cv2.CV_64F, 0, 1, ksize=sobel_kernel)\n",
    "    # Calculate the gradient magnitude\n",
    "    gradmag = np.sqrt(sobelx**2 + sobely**2)\n",
    "    # Rescale to 8 bit\n",
    "    scale_factor = np.max(gradmag)/255 \n",
    "    gradmag = (gradmag/scale_factor).astype(np.uint8) \n",
    "    # Create a binary image of ones where threshold is met, zeros otherwise\n",
    "    binary_output = np.zeros_like(gradmag)\n",
    "    binary_output[(gradmag >= mag_thresh[0]) & (gradmag <= mag_thresh[1])] = 1\n",
    "\n",
    "    # Return the binary image\n",
    "    return binary_output\n",
    "\n",
    "def dir_threshold(img, sobel_kernel=3, thresh=(0, np.pi/2)):\n",
    "    # Grayscale\n",
    "    gray = cv2.cvtColor(img, cv2.COLOR_RGB2GRAY)\n",
    "    # Calculate the x and y gradients\n",
    "    sobelx = cv2.Sobel(gray, cv2.CV_64F, 1, 0, ksize=sobel_kernel)\n",
    "    sobely = cv2.Sobel(gray, cv2.CV_64F, 0, 1, ksize=sobel_kernel)\n",
    "    # Take the absolute value of the gradient direction, \n",
    "    # apply a threshold, and create a binary image result\n",
    "    absgraddir = np.arctan2(np.absolute(sobely), np.absolute(sobelx))\n",
    "    binary_output =  np.zeros_like(absgraddir)\n",
    "    binary_output[(absgraddir >= thresh[0]) & (absgraddir <= thresh[1])] = 1\n",
    "\n",
    "    # Return the binary image\n",
    "    return binary_output\n",
    "\n",
    "def color_threshold(img, s_thresh=(0,255), v_thresh=(0, 255)):\n",
    "    hls = cv2.cvtColor(img, cv2.COLOR_RGB2HLS)\n",
    "    s_channel = hls[:,:,2]\n",
    "    s_binary = np.zeros_like(s_channel)\n",
    "    s_binary[(s_channel >= s_thresh[0]) & (s_channel <= s_thresh[1])] = 1\n",
    "    \n",
    "    hsv = cv2.cvtColor(img, cv2.COLOR_RGB2HSV)\n",
    "    v_channel = hsv[:,:,2]\n",
    "    v_binary = np.zeros_like(v_channel)\n",
    "    v_binary[(v_channel >= v_thresh[0]) & (v_channel <= v_thresh[1])] = 1\n",
    "    \n",
    "    output = np.zeros_like(s_channel)\n",
    "    output[(s_binary == 1) & (v_binary ==1)] = 1\n",
    "    return output\n",
    "\n",
    "\n",
    "def hls_select(img, thresh=(0, 255)):\n",
    "    hls = cv2.cvtColor(img, cv2.COLOR_RGB2HLS)\n",
    "    s_channel = hls[:,:,2]\n",
    "    binary_output = np.zeros_like(s_channel)\n",
    "    binary_output[(s_channel > thresh[0]) & (s_channel <= thresh[1])] = 1\n",
    "    return binary_output\n",
    "\n"
   ]
  },
  {
   "cell_type": "code",
   "execution_count": 54,
   "metadata": {},
   "outputs": [
    {
     "name": "stdout",
     "output_type": "stream",
     "text": [
      "1280 720\n",
      "input:  ./test_images\\test1.jpg output: ./test_images/tracked0.jpg\n",
      "1280 720\n",
      "input:  ./test_images\\test2.jpg output: ./test_images/tracked1.jpg\n",
      "1280 720\n",
      "input:  ./test_images\\test3.jpg output: ./test_images/tracked2.jpg\n",
      "1280 720\n",
      "input:  ./test_images\\test4.jpg output: ./test_images/tracked3.jpg\n",
      "1280 720\n",
      "input:  ./test_images\\test5.jpg output: ./test_images/tracked4.jpg\n",
      "1280 720\n",
      "input:  ./test_images\\test6.jpg output: ./test_images/tracked5.jpg\n"
     ]
    }
   ],
   "source": [
    "#apply the undistort function on test images\n",
    "images = glob.glob('./test_images/test*.jpg')\n",
    "\n",
    "for idx, fname in enumerate(images):\n",
    "    \n",
    "    img = cv2.imread(fname)\n",
    "    img = cv2.undistort(img, mtx, dist, None, mtx)\n",
    "    \n",
    "    preprocessImage = np.zeros_like(img[:,:,0])\n",
    "    gradx = abs_sobel_thresh(img, orient='x',thresh=(12,255))\n",
    "    grady = abs_sobel_thresh(img, orient='y',thresh=(25,255))\n",
    "    c_binary = color_threshold(img, s_thresh=(100,255) ,v_thresh=(50,255))\n",
    "    preprocessImage[((gradx == 1) & (grady==1) | (c_binary ==1))] = 255\n",
    "    \n",
    "    img_size = (img.shape[1], img.shape[0])\n",
    "    print(img.shape[1],img.shape[0])\n",
    "    bot_width = 0.76\n",
    "    mid_width = 0.08\n",
    "    height_pct = 0.62\n",
    "    bottom_trim = 0.935\n",
    "    src = np.float32([[img.shape[1]*(0.5-mid_width/2), img.shape[0]*height_pct], [img.shape[1]*(0.5+mid_width/2), img.shape[0]*height_pct], [img.shape[1]*(0.5+bot_width/2), img.shape[0]*bottom_trim],[img.shape[1]*(0.5-bot_width/2), img.shape[0]*bottom_trim]])\n",
    "\n",
    "    offset = img_size[0]* .25\n",
    "    dst = np.float32([[offset, 0], [img_size[0]-offset, 0], \n",
    "                                     [img_size[0]-offset, img_size[1]], \n",
    "                                     [offset, img_size[1]]])\n",
    "    \n",
    "    M = cv2.getPerspectiveTransform(src, dst)\n",
    "    Minv = cv2.getPerspectiveTransform(dst, src)\n",
    "    warped = cv2.warpPerspective(preprocessImage, M, img_size, flags=cv2.INTER_LINEAR)\n",
    "    \n",
    "    result = warped\n",
    "    write_name  = './test_images/tracked'+str(idx)+'.jpg'\n",
    "    cv2.imwrite(write_name, result)\n",
    "    print('input: ', fname, \"output:\", write_name)"
   ]
  },
  {
   "cell_type": "code",
   "execution_count": null,
   "metadata": {},
   "outputs": [],
   "source": []
  }
 ],
 "metadata": {
  "kernelspec": {
   "display_name": "Python 3",
   "language": "python",
   "name": "python3"
  },
  "language_info": {
   "codemirror_mode": {
    "name": "ipython",
    "version": 3
   },
   "file_extension": ".py",
   "mimetype": "text/x-python",
   "name": "python",
   "nbconvert_exporter": "python",
   "pygments_lexer": "ipython3",
   "version": "3.5.2"
  },
  "widgets": {
   "state": {},
   "version": "1.1.2"
  }
 },
 "nbformat": 4,
 "nbformat_minor": 2
}
